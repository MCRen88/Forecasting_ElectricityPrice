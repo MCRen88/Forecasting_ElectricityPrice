{
 "cells": [
  {
   "cell_type": "markdown",
   "metadata": {},
   "source": [
    "# Spanish Electricity Pool Forecasting: Import Finacial Data from Quandl"
   ]
  },
  {
   "cell_type": "code",
   "execution_count": null,
   "metadata": {},
   "outputs": [],
   "source": [
    "import pandas as pd\n",
    "import numpy as np\n",
    "import datetime as dt\n",
    "\n",
    "%matplotlib inline\n",
    "import matplotlib.pyplot as plt\n",
    "import seaborn as sns\n",
    "\n",
    "import quandl as qua"
   ]
  },
  {
   "cell_type": "code",
   "execution_count": null,
   "metadata": {},
   "outputs": [],
   "source": [
    "import config\n",
    "\n",
    "TOKEN = config.QUANDL_API_KEY\n",
    "PATH = \"./data/\"\n",
    "\n",
    "sns.set(\n",
    "    rc=config.set_plot_features(), style=\"darkgrid\"\n",
    "       )"
   ]
  },
  {
   "cell_type": "code",
   "execution_count": null,
   "metadata": {},
   "outputs": [],
   "source": [
    "START_DATE=\"2014-01-01\"\n",
    "END_DATE = dt.datetime.now().date().strftime(\"%Y-%m-%d\")\n",
    "\n",
    "start_date_suffix = START_DATE.replace(\"-\",\"_\")\n",
    "end_date_suffix = END_DATE.replace(\"-\",\"_\")"
   ]
  },
  {
   "cell_type": "code",
   "execution_count": null,
   "metadata": {},
   "outputs": [],
   "source": [
    "END_DATE"
   ]
  },
  {
   "cell_type": "markdown",
   "metadata": {},
   "source": [
    "### Download finantial data from Quandl API:\n",
    "\n",
    "https://www.quandl.com/tools/api"
   ]
  },
  {
   "cell_type": "markdown",
   "metadata": {},
   "source": [
    "**Download CO2 Emissions Allowances prices**\n",
    "\n",
    "https://www.quandl.com/data/CHRIS/ICE_C1-ECX-EUA-Futures-Continuous-Contract"
   ]
  },
  {
   "cell_type": "code",
   "execution_count": null,
   "metadata": {},
   "outputs": [],
   "source": [
    "TICKER = \"CHRIS/ICE_C1\"\n",
    "co2_raw = qua.get(TICKER, start_date=START_DATE, end_date=END_DATE, authtoken=TOKEN)\n",
    "co2_raw.info()"
   ]
  },
  {
   "cell_type": "markdown",
   "metadata": {},
   "source": [
    "**Download Coal API2 prices**\n",
    "\n",
    "The API 2 price assessment is the benchmark price reference for coal imported to northwest Europe. It is calculated as an average of the Argus cif ARA price assessment and the IHS McCloskey NW Europe Steam Coal marker.\n",
    "\n",
    "\n",
    "https://www.quandl.com/data/CHRIS/CME_MTF2-Coal-API2-CIF-ARA-ARGUS-McCloskey-Futures-Continuous-Contract-2-MTF2"
   ]
  },
  {
   "cell_type": "code",
   "execution_count": null,
   "metadata": {},
   "outputs": [],
   "source": [
    "TICKER = \"CHRIS/CME_MTF2.6\"\n",
    "coal_raw = qua.get(TICKER, start_date=START_DATE, end_date=END_DATE, authtoken=TOKEN)\n",
    "coal_raw.info()"
   ]
  },
  {
   "cell_type": "markdown",
   "metadata": {},
   "source": [
    "**Download Natural Gas at TTF prices**\n",
    "\n",
    "The Title Transfer Facility, more commonly known as TTF, is a virtual trading point for natural gas in the Netherlands\n",
    "\n",
    "https://www.quandl.com/data/CHRIS/ICE_TFM1-Endex-Dutch-TTF-Gas-Base-Load-Futures-Continuous-Contract"
   ]
  },
  {
   "cell_type": "code",
   "execution_count": null,
   "metadata": {},
   "outputs": [],
   "source": [
    "TICKER = \"CHRIS/ICE_TFM1.4\"\n",
    "ng_raw = qua.get(TICKER, start_date=START_DATE, end_date=END_DATE, authtoken=TOKEN)\n",
    "ng_raw.info()"
   ]
  },
  {
   "cell_type": "code",
   "execution_count": null,
   "metadata": {},
   "outputs": [],
   "source": [
    "co2_df = co2_raw[\"Settle\"].to_frame(\"raw_EUA_CO2\").asfreq(freq =\"D\")\n",
    "co2_df[\"MI_EUA_CO2\"] = co2_df[\"raw_EUA_CO2\"].isna().astype(int)\n",
    "co2_df[\"EUA_CO2\"] = co2_df[\"raw_EUA_CO2\"].interpolate(method = \"linear\")\n",
    "co2_df[[\"raw_EUA_CO2\", \"EUA_CO2\"]].plot()\n",
    "plt.ylabel(\"€/t\")\n",
    "plt.show()"
   ]
  },
  {
   "cell_type": "code",
   "execution_count": null,
   "metadata": {},
   "outputs": [],
   "source": [
    "def resample_df(input_df: pd.DataFrame, output_df: pd.DataFrame, \n",
    "                freq: str, interpolation: str,\n",
    "                raw_col: str, mi_col: str, fill_col:str):\n",
    "    output_df = input_df.copy()\n",
    "    output_df = output_df.asfreq(freq = freq)\n",
    "    output_df[mi_col] = output_df[raw_col].isna().astype(int)\n",
    "    output_df[fill_col] = output_df[raw_col].interpolate(method = interpolation)\n",
    "    return output_df"
   ]
  },
  {
   "cell_type": "code",
   "execution_count": null,
   "metadata": {},
   "outputs": [],
   "source": [
    "co2_df = co2_raw[\"Settle\"].to_frame(\"raw_EUA_CO2\")\n",
    "co2_df = resample_df(input_df=co2_df, output_df=co2_df, \n",
    "                freq=\"D\", interpolation=\"linear\",\n",
    "                raw_col=\"raw_EUA_CO2\", mi_col=\"MI_EUA_CO2\", fill_col=\"EUA_CO2\")\n",
    "co2_df[[\"raw_EUA_CO2\", \"EUA_CO2\"]].plot()\n",
    "plt.ylabel(\"€/t\")\n",
    "plt.show()"
   ]
  },
  {
   "cell_type": "code",
   "execution_count": null,
   "metadata": {},
   "outputs": [],
   "source": [
    "coal_df = coal_raw[\"Settle\"].to_frame(\"raw_coal_API2\")\n",
    "coal_df = resample_df(input_df=coal_df, output_df=coal_df, \n",
    "                freq=\"D\", interpolation=\"linear\",\n",
    "                raw_col=\"raw_coal_API2\", mi_col=\"MI_coal_API2\", fill_col=\"coal_API2\")\n",
    "coal_df[[\"raw_coal_API2\", \"coal_API2\"]].plot()\n",
    "plt.ylabel(\"USD/t\")\n",
    "plt.show()"
   ]
  },
  {
   "cell_type": "code",
   "execution_count": null,
   "metadata": {},
   "outputs": [],
   "source": [
    "ng_df = ng_raw[\"Settle\"].to_frame(\"raw_NG_TTF\")\n",
    "ng_df = resample_df(input_df=ng_df, output_df=ng_df, \n",
    "                freq=\"D\", interpolation=\"linear\",\n",
    "                raw_col=\"raw_NG_TTF\", mi_col=\"MI_NG_TTF\", fill_col=\"NG_TTF\")\n",
    "ng_df[[\"raw_NG_TTF\", \"NG_TTF\"]].plot()\n",
    "plt.ylabel(\"€/MWh\")\n",
    "plt.show()"
   ]
  },
  {
   "cell_type": "code",
   "execution_count": null,
   "metadata": {},
   "outputs": [],
   "source": [
    "fin_data = pd.concat([co2_df, coal_df,ng_df], axis=1)[['EUA_CO2', 'coal_API2','NG_TTF']].fillna(method ='bfill')\n",
    "fin_data.plot()\n",
    "plt.show()"
   ]
  },
  {
   "cell_type": "code",
   "execution_count": null,
   "metadata": {},
   "outputs": [],
   "source": [
    "fin_data.head(5)"
   ]
  },
  {
   "cell_type": "code",
   "execution_count": null,
   "metadata": {},
   "outputs": [],
   "source": [
    "fin_data.info()"
   ]
  },
  {
   "cell_type": "code",
   "execution_count": null,
   "metadata": {},
   "outputs": [],
   "source": [
    "fin_data.to_csv(PATH + \"quand_daily.csv\", index_label=\"date\")"
   ]
  },
  {
   "cell_type": "code",
   "execution_count": null,
   "metadata": {},
   "outputs": [],
   "source": []
  }
 ],
 "metadata": {
  "kernelspec": {
   "display_name": "Python 3",
   "language": "python",
   "name": "python3"
  },
  "language_info": {
   "codemirror_mode": {
    "name": "ipython",
    "version": 3
   },
   "file_extension": ".py",
   "mimetype": "text/x-python",
   "name": "python",
   "nbconvert_exporter": "python",
   "pygments_lexer": "ipython3",
   "version": "3.7.1"
  }
 },
 "nbformat": 4,
 "nbformat_minor": 2
}
