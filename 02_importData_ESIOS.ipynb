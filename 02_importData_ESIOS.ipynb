{
 "cells": [
  {
   "cell_type": "markdown",
   "metadata": {},
   "source": [
    "# Spanish Electricity Pool Forecasting: Import Data from ESIOS"
   ]
  },
  {
   "cell_type": "code",
   "execution_count": null,
   "metadata": {},
   "outputs": [],
   "source": [
    "import pandas as pd\n",
    "import numpy as np\n",
    "import datetime as dt\n",
    "\n",
    "%matplotlib inline\n",
    "import matplotlib.pyplot as plt\n",
    "import seaborn as sns"
   ]
  },
  {
   "cell_type": "code",
   "execution_count": null,
   "metadata": {},
   "outputs": [],
   "source": [
    "from fext import esios"
   ]
  },
  {
   "cell_type": "code",
   "execution_count": null,
   "metadata": {},
   "outputs": [],
   "source": [
    "import config\n",
    "\n",
    "sns.set(\n",
    "    rc=config.set_plot_features(), style=\"darkgrid\"\n",
    "       )\n",
    "\n",
    "TOKEN = config.ESIOS_API_KEY\n",
    "PATH = \"./data/\""
   ]
  },
  {
   "cell_type": "code",
   "execution_count": null,
   "metadata": {},
   "outputs": [],
   "source": [
    "START_DATE=\"2014-01-01\"\n",
    "END_DATE = dt.datetime.now().date().strftime(\"%Y-%m-%d\")\n",
    "\n",
    "start_date_suffix = START_DATE.replace(\"-\",\"_\")\n",
    "end_date_suffix = END_DATE.replace(\"-\",\"_\")\n",
    "\n",
    "END_DATE"
   ]
  },
  {
   "cell_type": "markdown",
   "metadata": {},
   "source": [
    "### Test ESIOS API to retrieve indicators metadata"
   ]
  },
  {
   "cell_type": "code",
   "execution_count": null,
   "metadata": {},
   "outputs": [],
   "source": [
    "import requests\n",
    "import json\n",
    "\n",
    "url = \"https://api.esios.ree.es/indicators/\"\n",
    "\n",
    "headers = {'content-Type': 'application/json', 'Authorization': 'Token token={}'.format(TOKEN)}\n",
    "\n",
    "response = requests.get(url, headers=headers, stream=True)\n",
    "print(response)"
   ]
  },
  {
   "cell_type": "code",
   "execution_count": null,
   "metadata": {},
   "outputs": [],
   "source": [
    "data_dict0 = json.loads(response.content.decode('UTF-8'))\n",
    "type(data_dict0)"
   ]
  },
  {
   "cell_type": "code",
   "execution_count": null,
   "metadata": {},
   "outputs": [],
   "source": [
    "indicators_df = pd.DataFrame(data_dict0['indicators'])\n",
    "indicators_df.head()"
   ]
  },
  {
   "cell_type": "code",
   "execution_count": null,
   "metadata": {},
   "outputs": [],
   "source": [
    "indicators_df[[\"id\",\"name\",\"description\"]].to_excel(\"esios_indicators.xlsx\", index=False)"
   ]
  },
  {
   "cell_type": "markdown",
   "metadata": {},
   "source": [
    "### Query ESIOS API to retrieve aggregated data from one indicator"
   ]
  },
  {
   "cell_type": "markdown",
   "metadata": {},
   "source": [
    "**Download daily average SPOT price**"
   ]
  },
  {
   "cell_type": "code",
   "execution_count": null,
   "metadata": {},
   "outputs": [],
   "source": [
    "_, data_dict, data_df = esios.get_esios_data(token=TOKEN,\n",
    "                                       indicator = 600,\n",
    "                    start_dt= '2019-05-31',\n",
    "                    end_dt= '2019-06-03',\n",
    "                    period = 'day',\n",
    "                    agg= \"average\",\n",
    "                    dev=False\n",
    "                                      )\n"
   ]
  },
  {
   "cell_type": "code",
   "execution_count": null,
   "metadata": {},
   "outputs": [],
   "source": [
    "data_df"
   ]
  },
  {
   "cell_type": "markdown",
   "metadata": {},
   "source": [
    "### Query ESIOS API to retrieve aggregated data from multiple indicators"
   ]
  },
  {
   "cell_type": "markdown",
   "metadata": {},
   "source": [
    "**Basic example**"
   ]
  },
  {
   "cell_type": "code",
   "execution_count": null,
   "metadata": {},
   "outputs": [],
   "source": [
    "multi_data_dict, multi_data_df = esios.get_esios_multi_data(TOKEN, period='day')"
   ]
  },
  {
   "cell_type": "code",
   "execution_count": null,
   "metadata": {},
   "outputs": [],
   "source": [
    "multi_data_df"
   ]
  },
  {
   "cell_type": "markdown",
   "metadata": {},
   "source": [
    "### Download and build a dataset with market pool price and generation share by technology"
   ]
  },
  {
   "cell_type": "markdown",
   "metadata": {},
   "source": [
    "**Get indicators list and split it by aggregating function**"
   ]
  },
  {
   "cell_type": "code",
   "execution_count": null,
   "metadata": {},
   "outputs": [],
   "source": [
    "tickers_df = pd.read_excel('esios_ind_retrieve_list.xlsx')\n",
    "tickers_df"
   ]
  },
  {
   "cell_type": "code",
   "execution_count": null,
   "metadata": {},
   "outputs": [],
   "source": [
    "indicators_retr_sum = list(tickers_df[\"id\"].unique())[1:-3]\n",
    "\n",
    "indicators_retr_sum"
   ]
  },
  {
   "cell_type": "code",
   "execution_count": null,
   "metadata": {},
   "outputs": [],
   "source": [
    "indicators_retr_avg = list(tickers_df[\"id\"].unique())[0]\n",
    "indicators_retr_avg"
   ]
  },
  {
   "cell_type": "markdown",
   "metadata": {},
   "source": [
    "**Download and index price data**"
   ]
  },
  {
   "cell_type": "code",
   "execution_count": null,
   "metadata": {},
   "outputs": [],
   "source": [
    "data_price_14_19_dict, data_price_14_19_df = esios.get_esios_multi_data(token=TOKEN,\n",
    "                    indicators = [600],\n",
    "                    start_dt = START_DATE,\n",
    "                    end_dt = END_DATE,\n",
    "                    period = 'day',\n",
    "                    agg = 'average',\n",
    "                    dev=False\n",
    "                  )"
   ]
  },
  {
   "cell_type": "code",
   "execution_count": null,
   "metadata": {},
   "outputs": [],
   "source": [
    "data_price_14_19_df[\"date\"] = pd.to_datetime(data_price_14_19_df[\"datetime\"].str[:10],infer_datetime_format=True).dt.date\n",
    "data_price_14_19_df.index= data_price_14_19_df[\"date\"]\n",
    "data_price_14_19_df.head()"
   ]
  },
  {
   "cell_type": "code",
   "execution_count": null,
   "metadata": {},
   "outputs": [],
   "source": [
    "data_price_14_19_df.tail()"
   ]
  },
  {
   "cell_type": "markdown",
   "metadata": {},
   "source": [
    "**Download and index P48 generation data**"
   ]
  },
  {
   "cell_type": "code",
   "execution_count": null,
   "metadata": {},
   "outputs": [],
   "source": [
    "data_gen_14_19_dict, data_gen_14_19_df = esios.get_esios_multi_data(token=TOKEN,\n",
    "                    indicators = indicators_retr_sum,\n",
    "                    start_dt = START_DATE,\n",
    "                    end_dt = END_DATE,\n",
    "                    period = 'day',\n",
    "                    agg = 'sum',\n",
    "                    dev=False\n",
    "                  )"
   ]
  },
  {
   "cell_type": "code",
   "execution_count": null,
   "metadata": {},
   "outputs": [],
   "source": [
    "data_gen_14_19_df[\"date\"] = pd.to_datetime(data_gen_14_19_df[\"datetime\"].str[:10],infer_datetime_format=True).dt.date\n",
    "data_gen_14_19_df.index = data_gen_14_19_df[\"date\"]\n",
    "data_gen_14_19_df.head()"
   ]
  },
  {
   "cell_type": "code",
   "execution_count": null,
   "metadata": {},
   "outputs": [],
   "source": [
    "data_gen_14_19_df.tail()"
   ]
  },
  {
   "cell_type": "markdown",
   "metadata": {},
   "source": [
    "**Merge both datasets and write to csv**"
   ]
  },
  {
   "cell_type": "code",
   "execution_count": null,
   "metadata": {},
   "outputs": [],
   "source": [
    "data_14_19_df = pd.concat([data_price_14_19_df,data_gen_14_19_df], axis=0)\n",
    "data_14_19_df.info()"
   ]
  },
  {
   "cell_type": "code",
   "execution_count": null,
   "metadata": {},
   "outputs": [],
   "source": [
    "with open(PATH + 'raw_esios_price_daily.json', 'w') as json_file:\n",
    "    json.dump(data_price_14_19_dict, json_file)"
   ]
  },
  {
   "cell_type": "code",
   "execution_count": null,
   "metadata": {},
   "outputs": [],
   "source": [
    "with open(PATH + 'raw_esios_gen_daily.json', 'w') as json_file:\n",
    "    json.dump(data_gen_14_19_dict, json_file)"
   ]
  },
  {
   "cell_type": "code",
   "execution_count": null,
   "metadata": {},
   "outputs": [],
   "source": [
    "data_gen_14_19_df.info()\n"
   ]
  },
  {
   "cell_type": "code",
   "execution_count": null,
   "metadata": {},
   "outputs": [],
   "source": [
    "select_columns= ['date', 'datetime', 'datetime_utc', 'geo_id', 'geo_name','tz_time', 'value', 'indicador', 'idx']\n",
    "\n",
    "data_14_19_df[select_columns].to_csv(PATH + \"esios_daily.csv\", index=False)"
   ]
  },
  {
   "cell_type": "code",
   "execution_count": null,
   "metadata": {},
   "outputs": [],
   "source": [
    "gen = data_14_19_df[\n",
    "    data_14_19_df[\"indicador\"]==\"Generación programada PBF total\"][[\"value\"]]\n",
    "gen[\"mave_52\"] = gen[\"value\"].rolling(52).mean()\n",
    "gen.plot()\n",
    "plt.title(\"Daily P48 Total Generation\")\n",
    "plt.ylabel(\"MWh\")\n",
    "plt.show()"
   ]
  },
  {
   "cell_type": "code",
   "execution_count": null,
   "metadata": {},
   "outputs": [],
   "source": [
    "price = data_14_19_df[\n",
    "    (data_14_19_df[\"indicador\"]==\"Precio mercado SPOT Diario\") &\n",
    "    (data_14_19_df[\"geo_id\"]==3)][[\"value\"]]\n",
    "price[\"mave_52\"] = price[\"value\"].rolling(52).mean()\n",
    "price.plot()\n",
    "\n",
    "plt.title(\"Daily SPOT price\")\n",
    "plt.ylabel(\"€/MWh\")\n",
    "plt.show()\n"
   ]
  },
  {
   "cell_type": "code",
   "execution_count": null,
   "metadata": {},
   "outputs": [],
   "source": [
    "sns.jointplot(x=gen.values, y=price.values, kind=\"reg\")\n",
    "plt.xlabel(\"P48 Total Generation (MWh)\")\n",
    "plt.ylabel(\"Daily SPOT price (€/MWh)\")\n",
    "plt.show()"
   ]
  },
  {
   "cell_type": "code",
   "execution_count": null,
   "metadata": {},
   "outputs": [],
   "source": []
  }
 ],
 "metadata": {
  "kernelspec": {
   "display_name": "Python 3",
   "language": "python",
   "name": "python3"
  },
  "language_info": {
   "codemirror_mode": {
    "name": "ipython",
    "version": 3
   },
   "file_extension": ".py",
   "mimetype": "text/x-python",
   "name": "python",
   "nbconvert_exporter": "python",
   "pygments_lexer": "ipython3",
   "version": "3.7.1"
  }
 },
 "nbformat": 4,
 "nbformat_minor": 2
}
