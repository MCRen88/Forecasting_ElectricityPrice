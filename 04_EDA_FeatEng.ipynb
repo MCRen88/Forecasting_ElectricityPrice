{
 "cells": [
  {
   "cell_type": "markdown",
   "metadata": {},
   "source": [
    "# Spanish Electricity Pool Forecasting: Exploratory Data Analysis"
   ]
  },
  {
   "cell_type": "code",
   "execution_count": null,
   "metadata": {},
   "outputs": [],
   "source": [
    "import pandas as pd\n",
    "import numpy as np\n",
    "import datetime as dt\n",
    "\n",
    "%matplotlib inline\n",
    "import matplotlib.pyplot as plt\n",
    "import seaborn as sns\n",
    "\n",
    "from scipy.stats import skew, kurtosis, pearsonr,  linregress as linreg\n",
    "\n",
    "from sklearn.preprocessing import MinMaxScaler,StandardScaler\n"
   ]
  },
  {
   "cell_type": "code",
   "execution_count": null,
   "metadata": {},
   "outputs": [],
   "source": [
    "import config\n",
    "sns.set(\n",
    "    rc=config.set_plot_features(), style=\"darkgrid\"\n",
    "       )"
   ]
  },
  {
   "cell_type": "markdown",
   "metadata": {},
   "source": [
    "# 1. Input and prepare data"
   ]
  },
  {
   "cell_type": "code",
   "execution_count": null,
   "metadata": {},
   "outputs": [],
   "source": [
    "PATH = './data/'\n",
    "infile1 = 'quand_daily.csv'\n",
    "infile2 = 'esios_daily.csv'\n",
    "outfile = 'data_spot_price_forecasting.csv'"
   ]
  },
  {
   "cell_type": "markdown",
   "metadata": {},
   "source": [
    "## 1.1. Load financial data"
   ]
  },
  {
   "cell_type": "code",
   "execution_count": null,
   "metadata": {},
   "outputs": [],
   "source": [
    "fin_data = pd.read_csv(PATH + infile1, parse_dates = [\"date\"], index_col=[\"date\"])\n",
    "fin_data.info()"
   ]
  },
  {
   "cell_type": "markdown",
   "metadata": {},
   "source": [
    "## 1.2. Load ESIOS data"
   ]
  },
  {
   "cell_type": "code",
   "execution_count": null,
   "metadata": {},
   "outputs": [],
   "source": [
    "esios_data = pd.read_csv(PATH + infile2, parse_dates = [\"date\"], index_col=[\"date\"])\n",
    "esios_data.info()"
   ]
  },
  {
   "cell_type": "markdown",
   "metadata": {},
   "source": [
    "## 1.3 Convert ESIOS format\n",
    "Pivot column \"indicator\" to convert a long dataset to a wide one, also filter geo"
   ]
  },
  {
   "cell_type": "code",
   "execution_count": null,
   "metadata": {},
   "outputs": [],
   "source": [
    "esios_data.groupby([\"indicador\", \"geo_id\"]).size()"
   ]
  },
  {
   "cell_type": "code",
   "execution_count": null,
   "metadata": {},
   "outputs": [],
   "source": [
    "esios_data[(esios_data['indicador'] =='Precio mercado SPOT Diario')].groupby([\"geo_id\", \"geo_name\"]).size()"
   ]
  },
  {
   "cell_type": "code",
   "execution_count": null,
   "metadata": {},
   "outputs": [],
   "source": [
    "esios_data = esios_data[esios_data[\"geo_id\"].isin([8741, 3])]\n",
    "esios_data[(esios_data['indicador'] =='Precio mercado SPOT Diario')].groupby([\"geo_id\", \"geo_name\"]).size()"
   ]
  },
  {
   "cell_type": "code",
   "execution_count": null,
   "metadata": {},
   "outputs": [],
   "source": [
    "esios_rename_dict = {'Precio mercado SPOT Diario': 'spot_price',\n",
    "    'Generación programada P48 Exportación Total': 'GP48_export',\n",
    "    'Generación programada P48 Importación Total': 'GP48_import',\n",
    "    'Generación programada P48 Cogeneración': 'GP48_cogen',\n",
    "    'Generación programada P48 Eólica': 'GP48_wind',\n",
    "    'Generación programada P48 Carbón': 'GP48_coal',\n",
    "    'Generación programada P48 Consumo bombeo': 'GP48_pumping_con',\n",
    "    'Generación programada P48 Gas Natural Cogeneración': 'GP48_cogen_ng',\n",
    "    'Generación programada P48 Biomasa': 'GP48_biomass',\n",
    "    'Generación programada P48 Solar térmica': 'GP48_thermosolar',\n",
    "    'Generación programada P48 Solar fotovoltaica': 'GP48_PV',\n",
    "    'Generación programada P48 Ciclo combinado': 'GP48_CC',\n",
    "    'Generación programada P48 Turbinación bombeo': 'GP48_pumping_tur',\n",
    "    'Generación programada P48 Nuclear': 'GP48_nuclear',\n",
    "    'Generación programada P48 Hidráulica no UGH': 'GP48_hydro_noUGH',\n",
    "    'Generación programada P48 Hidráulica UGH': 'GP48_hydro_UGH',\n",
    "    'Generación programada P48 UGH + no UGH': 'GP48_hydro_total',\n",
    "    'Generación programada PBF total': 'GP48_total',\n",
    "    'Demanda real': 'Demand_actual',\n",
    "    'Demanda programada': 'Demad_schedulled',\n",
    "    'Demanda prevista': 'Demand_forecasted'}"
   ]
  },
  {
   "cell_type": "code",
   "execution_count": null,
   "metadata": {},
   "outputs": [],
   "source": [
    "esios_data_wide = esios_data.pivot(columns='indicador', values='value').rename(columns=esios_rename_dict)\n",
    "esios_data_wide['spot_price'] = esios_data_wide['spot_price']\n",
    "esios_data_wide.head()"
   ]
  },
  {
   "cell_type": "markdown",
   "metadata": {},
   "source": [
    "## 1.4 Merge data and set daily index"
   ]
  },
  {
   "cell_type": "code",
   "execution_count": null,
   "metadata": {},
   "outputs": [],
   "source": [
    "esios_select = ['spot_price', 'GP48_total', 'GP48_export', 'GP48_import', 'GP48_cogen', 'GP48_wind', 'GP48_coal', \n",
    "                'GP48_biomass', 'GP48_thermosolar', 'GP48_PV', 'GP48_CC','GP48_nuclear',\n",
    "                'GP48_pumping_con', 'GP48_pumping_tur', 'GP48_hydro_total']\n",
    "data = esios_data_wide[esios_select].merge(fin_data, how='left', left_index=True, right_index=True)\\\n",
    "    .asfreq(\"D\")\n",
    "data[['GP48_pumping_con', 'GP48_pumping_tur','GP48_export', 'GP48_import']] =\\\n",
    "    data[['GP48_pumping_con', 'GP48_pumping_tur','GP48_export', 'GP48_import']].fillna(0.0)\n",
    "data.info()"
   ]
  },
  {
   "cell_type": "code",
   "execution_count": null,
   "metadata": {},
   "outputs": [],
   "source": [
    "data.head()"
   ]
  },
  {
   "cell_type": "code",
   "execution_count": null,
   "metadata": {},
   "outputs": [],
   "source": [
    "data.isna().sum()"
   ]
  },
  {
   "cell_type": "code",
   "execution_count": null,
   "metadata": {},
   "outputs": [],
   "source": [
    "data.tail()"
   ]
  },
  {
   "cell_type": "code",
   "execution_count": null,
   "metadata": {},
   "outputs": [],
   "source": [
    "data[[\"spot_price\", \"GP48_total\"]].describe().T"
   ]
  },
  {
   "cell_type": "code",
   "execution_count": null,
   "metadata": {},
   "outputs": [],
   "source": [
    "data.corr()"
   ]
  },
  {
   "cell_type": "code",
   "execution_count": null,
   "metadata": {},
   "outputs": [],
   "source": [
    "data.head()"
   ]
  },
  {
   "cell_type": "markdown",
   "metadata": {},
   "source": [
    "# 2. Basic Feature Engineering "
   ]
  },
  {
   "cell_type": "markdown",
   "metadata": {},
   "source": [
    "## 2.1 Time features"
   ]
  },
  {
   "cell_type": "code",
   "execution_count": null,
   "metadata": {},
   "outputs": [],
   "source": [
    "data[\"year\"] = data.index.year.astype(int)\n",
    "data[\"qtr\"] = data.index.quarter.astype(int)\n",
    "data[\"mon\"] = data.index.month.astype(int)\n",
    "data[\"week\"] = data.index.week.astype(int)\n",
    "data[\"weekday\"] = data.index.weekday.astype(int)\n",
    "\n",
    "data[\"qtr_idx\"] = data[\"year\"]*10+data[\"qtr\"]\n",
    "data[\"mon_idx\"] = data[\"year\"]*100+data[\"mon\"]\n",
    "data[\"flg_isWeekend\"] = np.where(data[\"weekday\"].isin([5,6]),1,0)\n",
    "\n",
    "data[[\"year\",\"qtr\",\"mon\",\"week\",\"weekday\",\"flg_isWeekend\"]].head(10)"
   ]
  },
  {
   "cell_type": "code",
   "execution_count": null,
   "metadata": {},
   "outputs": [],
   "source": [
    "features_time = [\"week_sin\",\"week_cos\",\"weekday_sin\",\"weekday_cos\"]\n",
    "\n",
    "data[\"week_sin\"] = np.sin((data['week']-1)*(2*np.pi/52))\n",
    "data[\"week_cos\"] = np.cos((data['week']-1)*(2*np.pi/52))\n",
    "\n",
    "data[\"weekday_sin\"] = np.sin((data['weekday'])*(2*np.pi/7))\n",
    "data[\"weekday_cos\"] = np.cos((data['weekday'])*(2*np.pi/7))\n",
    "\n",
    "data[[\"week_sin\", \"week_cos\"]].plot(figsize=(8,6))\n",
    "plt.title(\"Cyclical features\")\n",
    "plt.show()"
   ]
  },
  {
   "cell_type": "markdown",
   "metadata": {},
   "source": [
    "## 2.2. Derived features"
   ]
  },
  {
   "cell_type": "markdown",
   "metadata": {},
   "source": [
    "### 2.2.1. Compute generation share by techology"
   ]
  },
  {
   "cell_type": "code",
   "execution_count": null,
   "metadata": {},
   "outputs": [],
   "source": [
    "pct_compute =['GP48_export', 'GP48_import',\n",
    " 'GP48_cogen','GP48_wind', 'GP48_coal',\n",
    " 'GP48_biomass', 'GP48_thermosolar', 'GP48_PV',\n",
    " 'GP48_CC', 'GP48_nuclear',\n",
    " 'GP48_pumping_con','GP48_pumping_tur', 'GP48_hydro_total']\n",
    "\n",
    "features_gen_pct = [x + \"_pct\" for x in pct_compute]\n",
    "\n",
    "data[features_gen_pct] = data[pct_compute].divide(data[\"GP48_total\"], axis=0)\n",
    "\n",
    "data[features_gen_pct].head()"
   ]
  },
  {
   "cell_type": "markdown",
   "metadata": {},
   "source": [
    "### 2.2.2. Compute price quantiles by quater and a weekend indicator"
   ]
  },
  {
   "cell_type": "code",
   "execution_count": null,
   "metadata": {},
   "outputs": [],
   "source": [
    "def apply_quantiles(x, q25, q50, q75):\n",
    "    if x < q25:\n",
    "        return 0\n",
    "    elif x<q50:\n",
    "        return 1\n",
    "    elif x<q75:\n",
    "        return 2\n",
    "    else:\n",
    "        return 3"
   ]
  },
  {
   "cell_type": "code",
   "execution_count": null,
   "metadata": {},
   "outputs": [],
   "source": [
    "data_q_spot = data[[\"spot_price\", \"year\", \"qtr\", \"flg_isWeekend\"]].copy() \n",
    "q_cols = []\n",
    "\n",
    "for q in [0.25, 0.5, 0.75]:\n",
    "    q_grp = data.groupby([\"year\", \"qtr\", \"flg_isWeekend\"])[\"spot_price\"].quantile(q).to_frame(\"q_\" + str(q*100))\n",
    "    data_q_spot = data_q_spot.merge(q_grp, \"left\", left_on=[\"year\", \"qtr\", \"flg_isWeekend\"], right_index=True)\n",
    "    q_cols.append(\"q_\" + str(q*100))\n",
    "\n",
    "data_q_spot[\"spot_price_q\"] = data_q_spot[[\"spot_price\"] + q_cols].apply(lambda x: apply_quantiles(x[0], x[1], x[2], x[3]), axis=1)\n",
    "data_q_spot.tail(10)"
   ]
  },
  {
   "cell_type": "code",
   "execution_count": null,
   "metadata": {},
   "outputs": [],
   "source": [
    "data_q_spot.groupby([\"year\", \"qtr\", \"flg_isWeekend\"])[q_cols].mean()"
   ]
  },
  {
   "cell_type": "markdown",
   "metadata": {},
   "source": [
    "# 3. EDA"
   ]
  },
  {
   "cell_type": "code",
   "execution_count": null,
   "metadata": {},
   "outputs": [],
   "source": [
    "data[[\"spot_price\", \"GP48_total\"]].describe()"
   ]
  },
  {
   "cell_type": "code",
   "execution_count": null,
   "metadata": {},
   "outputs": [],
   "source": [
    "data.groupby([\"year\"])[[\"spot_price\"]].describe()"
   ]
  },
  {
   "cell_type": "code",
   "execution_count": null,
   "metadata": {},
   "outputs": [],
   "source": [
    "weekdays = [\"Mon\", \"Tue\", \"Wed\", \"Thu\", \"Fri\", \"Sat\", \"Sun\"]\n",
    "weekday_map = dict(zip(range(0,7+1), weekdays))\n",
    "quartiles_map = dict(zip(range(0,4+1), [\"1st_quartile\", \"2nd_quartile\", \"3rd_quartile\", \"4th_quartile\"]))"
   ]
  },
  {
   "cell_type": "code",
   "execution_count": null,
   "metadata": {},
   "outputs": [],
   "source": [
    "features_eda = [\"spot_price_mave52\", \"spot_price_mave7\", \"spot_price_diff1\", \"spot_price_diff7\", \"spot_price_lag1\", \"spot_price_lag7\"]\n",
    "data_eda = data.copy()\n",
    "\n",
    "data_eda[\"spot_price_mave52\"] = data_eda[\"spot_price\"].rolling(52).mean()\n",
    "data_eda[\"spot_price_mave7\"] = data_eda[\"spot_price\"].rolling(7).mean()\n",
    "data_eda[\"spot_price_std52\"] = data_eda[\"spot_price\"].rolling(52).std()\n",
    "\n",
    "data_eda[\"spot_price_diff1\"] = data_eda[\"spot_price\"].diff(1)\n",
    "data_eda[\"spot_price_diff7\"] = data_eda[\"spot_price\"].diff(1)\n",
    "\n",
    "data_eda[\"spot_price_lag1\"] = data_eda[\"spot_price\"].shift(1)\n",
    "data_eda[\"spot_price_lag7\"] = data_eda[\"spot_price\"].shift(7)\n",
    "\n",
    "data_eda[\"spot_price_t1\"] = data_eda[\"spot_price\"].shift(-1)\n",
    "\n",
    "data_eda[\"weekday\"] = data_eda[\"weekday\"].replace(weekday_map)\n",
    "data_eda[\"spot_price_q\"] = data_q_spot[\"spot_price_q\"].replace(quartiles_map)\n",
    "\n",
    "for col in features_gen_pct:\n",
    "    data_eda[col] = data_eda[col]*100\n",
    "\n",
    "data_eda = data_eda.dropna()"
   ]
  },
  {
   "cell_type": "markdown",
   "metadata": {},
   "source": [
    "## 3.1 Time series analysis"
   ]
  },
  {
   "cell_type": "markdown",
   "metadata": {},
   "source": [
    "### 3.1.1. Time series visualization"
   ]
  },
  {
   "cell_type": "code",
   "execution_count": null,
   "metadata": {},
   "outputs": [],
   "source": [
    "fig, axs = plt.subplots(1,2, sharey=True)\n",
    "data_eda.plot(y=[\"spot_price\", \"spot_price_mave52\"], ax=axs[0])\n",
    "plt.suptitle(\"Spot price time series visualization\")\n",
    "axs[0].set_ylabel(\"€/MWh\")\n",
    "\n",
    "sns.distplot(data_eda[\"spot_price\"], vertical=True, ax=axs[1])\n",
    "plt.show()"
   ]
  },
  {
   "cell_type": "markdown",
   "metadata": {},
   "source": [
    "### 3.1.2. Seasonality analysis"
   ]
  },
  {
   "cell_type": "code",
   "execution_count": null,
   "metadata": {},
   "outputs": [],
   "source": [
    "fig, axs = plt.subplots(1,2, sharey=True, figsize=(22,8))\n",
    "sns.boxplot(x=\"qtr\", y=\"spot_price\", data=data_eda, ax=axs[0])\n",
    "axs[0].set_title(\"Quarterly distribution\")\n",
    "axs[0].set_ylabel(\"€/MWh\")\n",
    "sns.boxplot(x=\"weekday\", y=\"spot_price\", data=data_eda, ax=axs[1], order=weekdays)\n",
    "axs[1].set_title(\"Weekday distribution\")\n",
    "axs[1].set_ylabel(\"\")\n",
    "plt.suptitle(\"Spot price  seasonality analysis\")\n",
    "plt.show()"
   ]
  },
  {
   "cell_type": "markdown",
   "metadata": {},
   "source": [
    "There are two clear seasonal patterns, one long term pattern indicating that in quarter 3 and 4 prices tend to go up, and a noticable weekly scheme pointing out that in weekends, prices decrease (on average)\n",
    "\n",
    "Rather than performing a traditional time series analysis, let's figure out what variables are driving this seasonal differences. Is demand (measured by energy generated) behind these differences?"
   ]
  },
  {
   "cell_type": "code",
   "execution_count": null,
   "metadata": {},
   "outputs": [],
   "source": [
    "fig, axs = plt.subplots(1,2, sharey=True, figsize=(22,8))\n",
    "sns.boxplot(x=\"qtr\", y=\"GP48_total\", data=data_eda, ax=axs[0])\n",
    "axs[0].set_title(\"Quarterly distribution\")\n",
    "sns.boxplot(x=\"weekday\", y=\"GP48_total\", data=data_eda, ax=axs[1], order=weekdays)\n",
    "axs[1].set_title(\"Weekly distribution\")\n",
    "plt.suptitle(\"Daily average generation (MWh) seasonality analysis\")\n",
    "plt.show()"
   ]
  },
  {
   "cell_type": "markdown",
   "metadata": {},
   "source": [
    "Weekly seasonality is explained by a decrease in electricity demand, but there is not a clear relationship yerly level.\n",
    "\n",
    "There are some techonologies with OPEX and very high CAPEX, like wind and hydro utilities, that tend to bid at low price because the underlying resource is intermitent. Let's check this hypothesis visually"
   ]
  },
  {
   "cell_type": "code",
   "execution_count": null,
   "metadata": {},
   "outputs": [],
   "source": [
    "fig, axs = plt.subplots(1,2, sharey=True, figsize=(22,8))\n",
    "sns.boxplot(x=\"qtr\", y=\"GP48_wind_pct\", data=data_eda, ax=axs[0])\n",
    "axs[0].set_ylabel(\"%\")\n",
    "axs[0].set_title(\"Wind generation\")\n",
    "sns.boxplot(x=\"qtr\", y=\"GP48_hydro_total_pct\", data=data_eda, ax=axs[1])\n",
    "plt.suptitle(\"Daily average % generation quaterly distributions\")\n",
    "axs[1].set_ylabel(\"%\")\n",
    "axs[1].set_title(\"Hidro generation\")\n",
    "\n",
    "plt.show()"
   ]
  },
  {
   "cell_type": "markdown",
   "metadata": {},
   "source": [
    "As the previous plot states, spot price in quarter 3 and four is historically higher, this is mainly due an important reduction in wind and hidro generated energy. In fact, quater 1 price is almost the lowest, and demand is the highest, however, an outstading wind generation drives downs prices"
   ]
  },
  {
   "cell_type": "code",
   "execution_count": null,
   "metadata": {},
   "outputs": [],
   "source": [
    "fig, axs = plt.subplots(1,2, sharey=True, figsize=(22,8))\n",
    "sns.barplot(x=\"mon\", y=\"GP48_nuclear\", data=data_eda, color=\"blue\", saturation =0.25, ax=axs[0])\n",
    "axs[0].set_title(\"Nuclear\")\n",
    "axs[0].set_ylabel(\"MWh\")\n",
    "sns.barplot(x=\"mon\", y=\"GP48_CC\", data=data_eda, color=\"blue\", saturation =0.25, ax=axs[1])\n",
    "axs[1].set_title(\"Natural gas combined cycle\")\n",
    "axs[1].set_ylabel(\"\")\n",
    "plt.suptitle(\"Average daily P48 generation by month\")\n",
    "\n",
    "plt.show()"
   ]
  },
  {
   "cell_type": "markdown",
   "metadata": {},
   "source": [
    "In addition, in quarters 3 and 4 there is a decrease in nuclear generation, tipically this kind of utillities (second generation Pressurized Water Reactor or PWR) halts their production twice a year to refill nuclear fuel (notice months 5 and 11). Especially, in quarter 4, this overlaps with wind and hydro generation, leading to a more expensive technologies increased generation share, like combined Cycles"
   ]
  },
  {
   "cell_type": "markdown",
   "metadata": {},
   "source": [
    "### 3.1.3. Trend analysis"
   ]
  },
  {
   "cell_type": "code",
   "execution_count": null,
   "metadata": {},
   "outputs": [],
   "source": [
    "plt.figure(figsize=(12,8))\n",
    "sns.boxplot(data=data_eda[:\"2018\"], x=\"year\", y=\"spot_price\")\n",
    "plt.title(\"Spot price distribution over years\")\n",
    "plt.ylabel(\"€/MWh\")\n",
    "plt.xticks(rotation=45)\n",
    "plt.show()"
   ]
  },
  {
   "cell_type": "markdown",
   "metadata": {},
   "source": [
    "There is a sustained increase en yearly mean daily spot price, tendency that is only broken at 2016. Let's study this phenomenon in detail"
   ]
  },
  {
   "cell_type": "code",
   "execution_count": null,
   "metadata": {},
   "outputs": [],
   "source": [
    "agg_price = data_eda[:\"2018\"].groupby([\"year\"])[\"spot_price\"].mean()\n",
    "agg_gen = data_eda[:\"2018\"].groupby([\"year\"])[\"GP48_total\", \"GP48_wind\", \"GP48_hydro_total\", \"GP48_CC\"].sum()\n",
    "\n",
    "agg_gen[\"GP48_wind_hydro_year_pct\"] = agg_gen[[\"GP48_wind\", \"GP48_hydro_total\"]].sum(axis=1).divide(agg_gen[\"GP48_total\"], axis=0)*100\n",
    "agg_gen[\"GP48_CC_pct\"] = agg_gen[[\"GP48_CC\"]].sum(axis=1).divide(agg_gen[\"GP48_total\"], axis=0)*100\n"
   ]
  },
  {
   "cell_type": "code",
   "execution_count": null,
   "metadata": {},
   "outputs": [],
   "source": [
    "fig, axs = plt.subplots(1,5, sharey=True, figsize=(36,8))\n",
    "\n",
    "plt.suptitle(\"Yearly spot price analysis\")\n",
    "sns.barplot(data=data_eda[:\"2018\"], x=\"spot_price\", y=\"year\", orient =\"h\", ax=axs[0])\n",
    "axs[0].set_title(\"spot price\")\n",
    "axs[0].set_xlabel(\"€/MWh\")\n",
    "\n",
    "agg_gen.plot(y=[\"GP48_wind_hydro_year_pct\", \"GP48_CC_pct\"], kind=\"barh\", ax=axs[1])\n",
    "axs[1].set_title(\"Wind+Hydro and CC\")\n",
    "axs[1].set_xlabel(\"%\")\n",
    "\n",
    "sns.barplot(data=data_eda, x='EUA_CO2', y=\"year\", orient =\"h\",ax=axs[2])\n",
    "axs[2].set_title(\"Average EUA CO2 price\")\n",
    "axs[2].set_xlabel(\"€/ton CO2\")\n",
    "\n",
    "sns.barplot(data=data_eda, x='coal_API2', y=\"year\", orient =\"h\",ax=axs[3])\n",
    "axs[3].set_title(\"Average coal API2 price\")\n",
    "axs[3].set_xlabel(\"USD/ton\")\n",
    "\n",
    "sns.barplot(data=data_eda, x='NG_TTF', y=\"year\", orient =\"h\",ax=axs[4])\n",
    "axs[4].set_title(\"Average NG TTF price\")\n",
    "axs[4].set_xlabel(\"€/MWh\")\n",
    "\n",
    "plt.show()"
   ]
  },
  {
   "cell_type": "markdown",
   "metadata": {},
   "source": [
    "This array of plots points out the following insights:\n",
    "* 2015 spot price was quite high compared with 2014 and 2016, due to a lower hydro+wind generation and quite high NG prices\n",
    "* The cheapest year of the series is 2016, due to de fact that coal and NG prices went wodn, as well a as a strong hydro+wind generation\n",
    "* In 2017 there is a remarkable increase in coal and NG prices, at the same time, a very poor hdyro+wind generation. These circumstances trigger a high spot price\n",
    "* Fossil fuels upward trend continues in 2018 and a sharp increase in EUA CO2 prices also takes place. These two effects cannot be counterbalanced by a recovery in hydro+wind generation\n",
    "\n",
    "Let's quantify the relationship between spot price and commidities price data (fossil fuel prices and EUA CO2 prices)\n"
   ]
  },
  {
   "cell_type": "code",
   "execution_count": null,
   "metadata": {},
   "outputs": [],
   "source": [
    "agg_qtr_fin = data_eda.groupby([\"qtr_idx\"])[[\"EUA_CO2\", \"coal_API2\", \"NG_TTF\", \"spot_price\"]].mean()\n",
    "agg_year_fin = data_eda.groupby([\"year\"])[[\"EUA_CO2\", \"coal_API2\", \"NG_TTF\", \"spot_price\"]].mean().apply(np.log)"
   ]
  },
  {
   "cell_type": "code",
   "execution_count": null,
   "metadata": {},
   "outputs": [],
   "source": [
    "agg_qtr_fin.head() "
   ]
  },
  {
   "cell_type": "code",
   "execution_count": null,
   "metadata": {},
   "outputs": [],
   "source": [
    "fig, axs = plt.subplots(1,3, sharey=False, sharex=False, figsize=(18,8))\n",
    "\n",
    "plt.suptitle(\"Spot price long term relationship with commodities price: Quarterly averages\")\n",
    "sns.regplot(data=agg_qtr_fin, x=\"EUA_CO2\", y=\"spot_price\", ax=axs[0])\n",
    "axs[0].set_ylim(0,75)\n",
    "axs[0].set_ylabel(\"spot price (€/MWh)\")\n",
    "axs[0].set_xlabel(\"EUA CO2 (€/ton)\")\n",
    "sns.regplot(data=agg_qtr_fin, x=\"coal_API2\", y=\"spot_price\", ax=axs[1])\n",
    "axs[1].set_ylim(0,75)\n",
    "axs[1].set_ylabel(\"\")\n",
    "axs[1].set_xlabel(\"Coal API2 (USD/ton)\")\n",
    "sns.regplot(data=agg_qtr_fin, x=\"NG_TTF\", y=\"spot_price\", ax=axs[2])\n",
    "axs[2].set_xlim(10,30)\n",
    "axs[2].set_ylim(0,75)\n",
    "axs[2].set_ylabel(\"\")\n",
    "axs[2].set_xlabel(\"Natural Gas TTF (€/MWh)\")\n",
    "\n",
    "for idx, col in enumerate([\"EUA_CO2\", \"coal_API2\", \"NG_TTF\"]):\n",
    "    corner_idx=agg_qtr_fin[col].min()\n",
    "    slope, intercept, r_value, p_value, std_err = linreg(x=agg_qtr_fin[col],y=agg_qtr_fin[\"spot_price\"])\n",
    "    for msg_idx, msg in enumerate(['$y={:.2f}+{:.2f}x$'.format(intercept, slope), '$R^2={:.2f}$'.format(r_value)]):\n",
    "        axs[idx].text(corner_idx,(msg_idx+1)*5, msg, style='italic', ha=\"left\")\n",
    "plt.show()"
   ]
  },
  {
   "cell_type": "markdown",
   "metadata": {},
   "source": [
    "This confirms that these commodities are strong spot prices drivers in long term, as regression lines are quite well fitted at quarterly aggregated data"
   ]
  },
  {
   "cell_type": "markdown",
   "metadata": {},
   "source": [
    "### 3.2. Correlation Analysis"
   ]
  },
  {
   "cell_type": "markdown",
   "metadata": {},
   "source": [
    "Pearson correlation indicates if two variables are linearly related. Explained visually: it is close to 1 in absolute terms if data fit well to a line, and correlation sign depends on this adjusted line slope. It is important to emphasize that other relationships rather than linear, are not properly captured by this score (try Spearman correlation).\n",
    "\n",
    "This correlation analysis is carried out in two subset of features:\n",
    "* Autocorrelation analysis\n",
    "* Rolling stats: It may capture past influence in future values, as well as it may model seasonality\n",
    "* Generation share by technology: It will indicate which technologies are the main price drivers\n",
    "* Commodity price: As seen before, there is a relationship when data is aggregated quaterly, let's check if it might model trend pattern"
   ]
  },
  {
   "cell_type": "markdown",
   "metadata": {},
   "source": [
    "### 3.2.1 Autocorrelation analysis"
   ]
  },
  {
   "cell_type": "code",
   "execution_count": null,
   "metadata": {},
   "outputs": [],
   "source": [
    "from statsmodels.graphics.tsaplots import plot_acf\n",
    "\n",
    "fig, axs = plt.subplots(1,2, sharey=True)\n",
    "plot_acf(data_eda[\"spot_price\"],lags=30, ax=axs[0])\n",
    "axs[0].set_title(\"Raw time series autocorrelation\")\n",
    "plot_acf(data_eda[\"spot_price_diff1\"],lags=30, ax=axs[1])\n",
    "axs[1].set_title(\"Differenced time series autocorrelation\")\n",
    "plt.show()"
   ]
  },
  {
   "cell_type": "markdown",
   "metadata": {},
   "source": [
    "Taking first differences (first order), it results that Autocorrelation Plot that shows lagged values may carry useful information. ARIMA model lovers will expect a more in depth discussion, but for a ML forecasting model it is enough"
   ]
  },
  {
   "cell_type": "markdown",
   "metadata": {},
   "source": [
    "#### 3.2.2 Rolling stats: Spot price"
   ]
  },
  {
   "cell_type": "code",
   "execution_count": null,
   "metadata": {},
   "outputs": [],
   "source": [
    "eda_corr2 = data_eda[[\"spot_price_t1\"] + features_eda].corr()\n",
    "sns.heatmap(eda_corr2, annot=True, cmap=\"YlGnBu\")\n",
    "plt.show()"
   ]
  },
  {
   "cell_type": "code",
   "execution_count": null,
   "metadata": {},
   "outputs": [],
   "source": [
    "l =  [\"spot_price_lag1\",\"spot_price_lag7\",\"spot_price_mave7\",\"spot_price_mave52\"]\n",
    "fig, axs = plt.subplots(2,len(l), figsize=(32, 18))\n",
    "for idx, col in enumerate(l):\n",
    "    sns.distplot(data_eda[col], ax=axs[0,idx])\n",
    "    sns.regplot(data=data_eda, x=col, y=\"spot_price_t1\",ax=axs[1,idx])\n",
    "plt.suptitle(\"Correlation with generation share by main techology\")\n",
    "plt.show()"
   ]
  },
  {
   "cell_type": "markdown",
   "metadata": {},
   "source": [
    "As seen in Autocorrelation plots, there is a lot of information in lagged values, as well as in moving averages"
   ]
  },
  {
   "cell_type": "code",
   "execution_count": null,
   "metadata": {},
   "outputs": [],
   "source": [
    "data_eda[l + [\"spot_price_t1\"]].corr().loc[l]"
   ]
  },
  {
   "cell_type": "markdown",
   "metadata": {},
   "source": [
    "#### 3.2.3. Generation share ratio by technology"
   ]
  },
  {
   "cell_type": "code",
   "execution_count": null,
   "metadata": {},
   "outputs": [],
   "source": [
    "eda_corr1 = data_eda[[\"spot_price_t1\"] + features_gen_pct].corr()\n",
    "sns.heatmap(eda_corr1, annot=True, cmap=\"YlGnBu\")\n",
    "plt.show()"
   ]
  },
  {
   "cell_type": "code",
   "execution_count": null,
   "metadata": {},
   "outputs": [],
   "source": [
    "l =  [\"GP48_coal_pct\",\"GP48_CC_pct\",\"GP48_wind_pct\",\"GP48_hydro_total_pct\"]\n",
    "fig, axs = plt.subplots(2,len(l), figsize=(32, 18))\n",
    "for idx, col in enumerate(l):\n",
    "    sns.distplot(data_eda[col], ax=axs[0,idx])\n",
    "    sns.regplot(data=data_eda, x=col, y=\"spot_price_t1\",ax=axs[1,idx])\n",
    "plt.suptitle(\"Correlation with generation share by main techology\")\n",
    "plt.show()"
   ]
  },
  {
   "cell_type": "code",
   "execution_count": null,
   "metadata": {},
   "outputs": [],
   "source": [
    "data_eda[l + [\"spot_price_t1\"]].corr().loc[l]"
   ]
  },
  {
   "cell_type": "markdown",
   "metadata": {},
   "source": [
    "* It is an interesting fact, that combined cycles and coal utilities yield the highest correlation scores, and an upward fit line slope. It can be seen, that the relationship is not linear, let's apply a transformation to x variable (log)\n",
    "* On the other hand, wind and hydro also impact spot price but in the opposite way, as we previously explained, cost structure and resource intermitence are behind this behavior. In addition, the relationship is linear.\n",
    "\n"
   ]
  },
  {
   "cell_type": "markdown",
   "metadata": {},
   "source": [
    "To ilustrate the fact that not every relationship must be linear, let's fit a log function to combined cycles data"
   ]
  },
  {
   "cell_type": "code",
   "execution_count": null,
   "metadata": {},
   "outputs": [],
   "source": [
    "plt.figure(figsize=(8,6))\n",
    "sns.regplot(data=data_eda, x=\"GP48_CC_pct\", y=\"spot_price_t1\",logx = True, fit_reg =True)\n",
    "plt.ylabel(\"Spot price (€/MWh)\")\n",
    "plt.xlabel(\"Combined Cycle % generation\")\n",
    "plt.title(\"Log fitted curve: spot_price=f(CC)\")\n",
    "\n",
    "plt.show()"
   ]
  },
  {
   "cell_type": "code",
   "execution_count": null,
   "metadata": {},
   "outputs": [],
   "source": [
    "l =  [\"EUA_CO2\", \"NG_TTF\", \"coal_API2\"]\n",
    "fig, axs = plt.subplots(2,len(l), sharex=False, figsize=(32, 18))\n",
    "for idx, col in enumerate(l):\n",
    "    sns.distplot(data_eda[col], ax=axs[0,idx])\n",
    "    sns.regplot(data=data_eda, x=col, y=\"spot_price_t1\",ax=axs[1,idx])\n",
    "plt.suptitle(\"Correlation with generation share by main techology\")\n",
    "plt.show()"
   ]
  },
  {
   "cell_type": "code",
   "execution_count": null,
   "metadata": {},
   "outputs": [],
   "source": [
    "data_eda[l + [\"spot_price_t1\"]].corr().loc[l]"
   ]
  },
  {
   "cell_type": "markdown",
   "metadata": {},
   "source": [
    "As we could see in the last section, this variables influence at quarterly level is quite high, and the correlation score maintains at dailiy level, although data is very scattered around regresion line, due to seasonal (weekly and yearly patterns) and variability due to trend. A complex enough algorithm must device a way to combine seasonal and trend features in order to deal with this time structure"
   ]
  },
  {
   "cell_type": "markdown",
   "metadata": {},
   "source": [
    "# 4. Feature Exploration and Engineering"
   ]
  },
  {
   "cell_type": "markdown",
   "metadata": {},
   "source": [
    "The goal of this section is to handcraft some interesting features that will significantly improve our model performance. Moreover, some automatic feature engineering will be performed to exploit EDA insigths. "
   ]
  },
  {
   "cell_type": "markdown",
   "metadata": {},
   "source": [
    "## 4.1. Wind generation"
   ]
  },
  {
   "cell_type": "code",
   "execution_count": null,
   "metadata": {},
   "outputs": [],
   "source": [
    "data_points_year= '2017'\n",
    "data_pints_order=[\"1st_quartile\", \"2nd_quartile\", \"3rd_quartile\", \"4th_quartile\"]\n",
    "\n",
    "sns.barplot(x=\"qtr\", y=\"GP48_wind_pct\", data=data_eda, ci=\"sd\", fill=False, edgecolor='purple', linewidth=10, alpha=.5)\n",
    "sns.swarmplot(x=\"qtr\", y=\"GP48_wind_pct\", hue=\"spot_price_q\", data=data_eda[data_points_year], hue_order =data_pints_order, alpha=.5, s=12, dodge=True)\n",
    "plt.text(0.25,50,\"Data points year: {}\".format(data_points_year))\n",
    "\n",
    "plt.ylabel(\"Average wind generation %\")\n",
    "plt.xlabel(\"Quarter\")\n",
    "plt.title(\"Quarterly spot price distribution vs wind generation: Data points year 2017\")\n",
    "plt.show()"
   ]
  },
  {
   "cell_type": "markdown",
   "metadata": {},
   "source": [
    "This bar displays in bars how much generation comes from wind by quarter, computed taking averages from daily percentages. At each quarter, it is overlayed a distribution of scattered points. Those points height is daily wind generation percentage and colour represents the spot price quartile that each one belongs to. Quartiles are computed by quater and weekday (as wee saw that spot price is strongly influenced by these variables) as well as by year, because there are significant differences from one to another. Due to \n",
    "\n",
    "It can be clearly seen that higher points are blue and yellow, therefore they were \"cheap\" days that belong to lower quartiles (1st and 2nd), whereas low points are green and red, so they were expensive days when wind generation was low.\n",
    "\n",
    "This kind of interaction will be frequent and our Machine Learning algorithm must be complex enough to model them"
   ]
  },
  {
   "cell_type": "markdown",
   "metadata": {},
   "source": [
    "## 4.2. Exports and Imports"
   ]
  },
  {
   "cell_type": "code",
   "execution_count": null,
   "metadata": {},
   "outputs": [],
   "source": [
    "l = [\"GP48_export_pct\", \"GP48_export\",\"GP48_import_pct\", \"GP48_import\"]\n",
    "data_eda[l +  [\"spot_price_t1\"]].corr().loc[[\"spot_price_t1\"], l]"
   ]
  },
  {
   "cell_type": "code",
   "execution_count": null,
   "metadata": {},
   "outputs": [],
   "source": [
    "data_eda[\"GP48_export_mmax\"] = data_eda[\"GP48_export\"].rolling(120).min()\n",
    "data_eda[\"GP48_import_mmax\"] = data_eda[\"GP48_import\"].rolling(120).max()\n",
    "data_eda[\"GP48_export_pct_mave\"] = data_eda[\"GP48_export_pct\"].rolling(180).mean()\n",
    "data_eda[\"GP48_import_pct_mave\"] = data_eda[\"GP48_import_pct\"].rolling(180).mean()\n",
    "\n",
    "data_eda[\"GP48_export_pct_over_mmax\"] = data_eda[\"GP48_export\"].div(data_eda[\"GP48_export_mmax\"])\n",
    "data_eda[\"GP48_import_pct_over_mmax\"] = data_eda[\"GP48_import\"].div(data_eda[\"GP48_import_mmax\"])\n",
    "data_eda[[\"spot_price_t1\", \"GP48_export_pct_over_mmax\",\"GP48_export_mmax\", \"GP48_export_pct_mave\",\n",
    "          \"GP48_import_pct_over_mmax\", \"GP48_import_mmax\", \"GP48_import_pct_mave\"]].corr()"
   ]
  },
  {
   "cell_type": "code",
   "execution_count": null,
   "metadata": {},
   "outputs": [],
   "source": [
    "data_eda[[ \"GP48_export_pct\",\"GP48_export_pct_mave\"]].corr()"
   ]
  },
  {
   "cell_type": "code",
   "execution_count": null,
   "metadata": {},
   "outputs": [],
   "source": [
    "features_eng =  [\"GP48_export_pct_mave180\"]\n",
    "data[\"GP48_export_pct_mave180\"] = data[\"GP48_export_pct\"].rolling(180).mean()"
   ]
  },
  {
   "cell_type": "markdown",
   "metadata": {},
   "source": [
    "As raw data, exports and imports are not good predictors, however, trying to compute this figure as percentage over rolling maximum does not yield better results. However exports rolling 120-days max seems to be the best engineering feature, especially at extreme values. This makes senses, since the higher the price, the lower chances to export energy to other markets linke French one, where prices are usually lower."
   ]
  },
  {
   "cell_type": "markdown",
   "metadata": {},
   "source": [
    "## 4.3. Pumping: Turbination and Consumption"
   ]
  },
  {
   "cell_type": "code",
   "execution_count": null,
   "metadata": {},
   "outputs": [],
   "source": [
    "l = [\"GP48_pumping_con_pct\", \"GP48_pumping_con\",\"GP48_pumping_tur_pct\", \"GP48_pumping_tur\"]\n",
    "data_eda[l +  [\"spot_price_t1\"]].corr().loc[[\"spot_price_t1\"], l]"
   ]
  },
  {
   "cell_type": "code",
   "execution_count": null,
   "metadata": {},
   "outputs": [],
   "source": [
    "data_eda[\"GP48_pumping_con_mmax\"] = data_eda[\"GP48_pumping_con\"].rolling(240).min()\n",
    "data_eda[\"GP48_pumping_tur_mmax\"] = data_eda[\"GP48_pumping_tur\"].rolling(240).max()\n",
    "data_eda[\"GP48_pumping_con_pct_mave\"] = data_eda[\"GP48_pumping_con_pct\"].rolling(180).mean()\n",
    "data_eda[\"GP48_pumping_tur_pct_mave\"] = data_eda[\"GP48_pumping_tur_pct\"].rolling(7).mean()\n",
    "\n",
    "\n",
    "data_eda[\"GP48_pumping_con_pct_over_mmax\"] = data_eda[\"GP48_pumping_con\"].div(data_eda[\"GP48_pumping_con_mmax\"])\n",
    "data_eda[\"GP48_pumping_tur_pct_over_mmax\"] = data_eda[\"GP48_pumping_tur\"].div(data_eda[\"GP48_pumping_tur_mmax\"])\n",
    "\n",
    "data_eda[[\"GP48_pumping_con_pct_over_mmax\", \"GP48_pumping_con_mmax\", \"GP48_pumping_con_pct_mave\",\n",
    "          \"GP48_pumping_tur_pct_over_mmax\", \"GP48_pumping_tur_mmax\", \"GP48_pumping_tur_pct_mave\", \n",
    "          \"spot_price_t1\"]].corr()[[\"spot_price_t1\"]].T"
   ]
  },
  {
   "cell_type": "code",
   "execution_count": null,
   "metadata": {},
   "outputs": [],
   "source": [
    "data_eda[[\"GP48_pumping_con_pct\",\"GP48_pumping_tur_pct\", \"GP48_pumping_con_pct_mave\",\"GP48_pumping_tur_pct_mave\",\n",
    "         \"GP48_pumping_con_pct_over_mmax\", \"GP48_pumping_tur_pct_over_mmax\"]].corr()"
   ]
  },
  {
   "cell_type": "code",
   "execution_count": null,
   "metadata": {},
   "outputs": [],
   "source": [
    "features_eng = features_eng + [\"GP48_pumping_con_pct_mave180\", \"GP48_pumping_tur_pct_mave7\",\"GP48_pumping_tur_pct_over_mmax240\"]\n",
    "\n",
    "data[\"GP48_pumping_tur_pct_over_mmax240\"] = data[\"GP48_pumping_tur\"].div(data[\"GP48_pumping_tur\"].rolling(240).max())\n",
    "data[\"GP48_pumping_con_pct_mave180\"] = data[\"GP48_pumping_con_pct\"].rolling(180).mean()\n",
    "data[\"GP48_pumping_tur_pct_mave7\"] = data[\"GP48_pumping_tur_pct\"].rolling(7).mean()"
   ]
  },
  {
   "cell_type": "markdown",
   "metadata": {},
   "source": [
    "Turbining and consuming energy as raw predictors yield a good correlation, but consuming improves significantly if a percentage over max and a moving average are computed (moreover this features are not very correlated). Regarding turbined water, the best feature is to calculate a moving average (correlation almost doubles)"
   ]
  },
  {
   "cell_type": "markdown",
   "metadata": {},
   "source": [
    "## 4.4. Nuclear power"
   ]
  },
  {
   "cell_type": "code",
   "execution_count": null,
   "metadata": {},
   "outputs": [],
   "source": [
    "l = [\"GP48_nuclear\", \"GP48_nuclear_pct\"]\n",
    "data_eda[l +  [\"spot_price_t1\"]].corr().loc[[\"spot_price_t1\"], l]"
   ]
  },
  {
   "cell_type": "code",
   "execution_count": null,
   "metadata": {},
   "outputs": [],
   "source": [
    "data_eda[\"GP48_nuclear_mmax\"] = data_eda[\"GP48_nuclear\"].rolling(180).max()\n",
    "data_eda[\"GP48_nuclear_mave\"] = data_eda[\"GP48_nuclear\"].rolling(180).mean()\n",
    "data_eda[\"GP48_nuclear_pct_mmax\"] = data_eda[\"GP48_nuclear_pct\"].rolling(180).max()\n",
    "data_eda[\"GP48_nuclear_pct_mave\"] = data_eda[\"GP48_nuclear_pct\"].rolling(7).mean()\n",
    "\n",
    "data_eda[\"GP48_nuclear_pct_over_mmax\"] = data_eda[\"GP48_nuclear\"].div(data_eda[\"GP48_nuclear_mmax\"])\n",
    "\n",
    "data_eda[[\"spot_price_t1\", \"GP48_nuclear_pct_over_mmax\",\"GP48_nuclear\",\"GP48_nuclear_pct\", \"GP48_nuclear_mmax\",\n",
    "          \"GP48_nuclear_pct_mmax\", \"GP48_nuclear_mave\", \"GP48_nuclear_pct_mave\"]].corr()"
   ]
  },
  {
   "cell_type": "code",
   "execution_count": null,
   "metadata": {},
   "outputs": [],
   "source": [
    "features_eng = features_eng + [\"GP48_nuclear_pct_mmax180\"]\n",
    "\n",
    "data[\"GP48_nuclear_pct_mmax180\"] = data[\"GP48_nuclear_pct\"].rolling(180).max()"
   ]
  },
  {
   "cell_type": "markdown",
   "metadata": {},
   "source": [
    "Additionally to compute dayly nuclear generation share (GP48_nuclear_mave) taking rolling max also yield a good predictor (GP48_nuclear_pct_mmax), as well as a cmputing rolling average on generated nuclear energy. Moreover, correlation among these features is not very high"
   ]
  },
  {
   "cell_type": "markdown",
   "metadata": {},
   "source": [
    "## 4.5. Solar Energy"
   ]
  },
  {
   "cell_type": "code",
   "execution_count": null,
   "metadata": {},
   "outputs": [],
   "source": [
    "l = [\"GP48_PV\", \"GP48_PV_pct\", \"GP48_thermosolar\", \"GP48_thermosolar_pct\"]\n",
    "data_eda[l +  [\"spot_price_t1\"]].corr().loc[[\"spot_price_t1\"], l]"
   ]
  },
  {
   "cell_type": "code",
   "execution_count": null,
   "metadata": {},
   "outputs": [],
   "source": [
    "data_eda[[\"GP48_PV\", \"GP48_thermosolar\"]].plot(figsize=(8,6))\n",
    "plt.show()"
   ]
  },
  {
   "cell_type": "code",
   "execution_count": null,
   "metadata": {},
   "outputs": [],
   "source": [
    "data_eda[\"GP48_solar\"] = data_eda[[\"GP48_PV\", \"GP48_thermosolar\"]].sum(axis=1)\n",
    "data_eda[\"GP48_solar_pct\"] = data_eda[\"GP48_solar\"].div(data_eda[\"GP48_total\"])*100\n",
    "data_eda[[\"spot_price_t1\", \"GP48_PV_pct\", \"GP48_thermosolar_pct\", \"GP48_solar\", \"GP48_solar_pct\"]].corr()"
   ]
  },
  {
   "cell_type": "code",
   "execution_count": null,
   "metadata": {},
   "outputs": [],
   "source": [
    "data_eda[\"GP48_PV_pct_mave\"] = data_eda[\"GP48_PV_pct\"].rolling(7).mean()\n",
    "data_eda[\"GP48_solar_pct_mave\"] = data_eda[\"GP48_solar_pct\"].rolling(7).mean()\n",
    "\n",
    "data_eda[[\"spot_price_t1\", \"GP48_PV_pct\", \"GP48_thermosolar_pct\", \"GP48_solar\", \"GP48_solar_pct\", \"GP48_PV_pct_mave\", \"GP48_solar_pct_mave\"]].corr()"
   ]
  },
  {
   "cell_type": "markdown",
   "metadata": {},
   "source": [
    "Sun energy effect on Spanish market price is not very significant, this may be due to a very low installed capacity. During year 2019-2020 it is expected that this espectaculary changes, therefore marginal depresssing effect on market price may be very noticably.\n",
    "\n",
    "My two cents on the issue:\n",
    "\n",
    "* PV energy was heavily subsidized via Feed in Tariffs (FIT) that, at it greatest peak, a premium of 450 €/MWh was given. Nowadays, this effort is not paying off.\n",
    "* On the other hand, a strong expansion of this kind of energy (withouth subsidies) is expected and it may radically change Spanish electricity market. "
   ]
  },
  {
   "cell_type": "markdown",
   "metadata": {},
   "source": [
    "## 4.6. Coal and Natural Gas"
   ]
  },
  {
   "cell_type": "code",
   "execution_count": null,
   "metadata": {},
   "outputs": [],
   "source": [
    "data_eda[\"GP48_CC_pct_x_TTF\"] = data_eda[\"NG_TTF\"]*data_eda[\"GP48_CC\"]\n",
    "data_eda[\"GP48_coal_pct_x_API2\"] = data_eda[\"GP48_coal\"]*data_eda[\"coal_API2\"]\n",
    "data_eda[\"GP48_coal_CC_pct_x_CO2\"] = (data_eda[\"GP48_coal\"]+data_eda[\"GP48_CC\"])*data_eda[\"EUA_CO2\"]\n",
    "\n",
    "data_eda[[\"NG_TTF\",\"GP48_CC_pct\", \"GP48_coal_pct\", \"coal_API2\", \"GP48_CC_pct_x_TTF\", \"GP48_coal_pct_x_API2\", \"GP48_coal_CC_pct_x_CO2\", \"spot_price_t1\"]].corr()"
   ]
  },
  {
   "cell_type": "code",
   "execution_count": null,
   "metadata": {},
   "outputs": [],
   "source": [
    "data_eda[\"NG_TTF_mave\"] = data_eda[\"NG_TTF\"].rolling(30).mean()\n",
    "data_eda[\"coal_API2_mave\"] = data_eda[\"coal_API2\"].rolling(30).mean()\n",
    "data_eda[\"EUA_CO2_mave\"] = data_eda[\"EUA_CO2\"].rolling(30).mean()\n",
    "                                          \n",
    "data_eda[[\"spot_price_t1\", \"NG_TTF\",\"NG_TTF_mave\", \"coal_API2\", \"coal_API2_mave\", \"EUA_CO2\", \"EUA_CO2_mave\"]].corr()"
   ]
  },
  {
   "cell_type": "code",
   "execution_count": null,
   "metadata": {},
   "outputs": [],
   "source": [
    "features_eng = features_eng + [\"NG_TTF_mave30\", \"coal_API2_mave30\", \"EUA_CO2_mave30\"]\n",
    "\n",
    "data[\"NG_TTF_mave30\"] = data[\"NG_TTF\"].rolling(30).mean()\n",
    "data[\"coal_API2_mave30\"] = data[\"coal_API2\"].rolling(30).mean()\n",
    "data[\"EUA_CO2_mave30\"] = data[\"EUA_CO2\"].rolling(30).mean()"
   ]
  },
  {
   "cell_type": "markdown",
   "metadata": {},
   "source": [
    "This kind of interaction yields a better correlation score, but also a higher multicollinearity, as cross features are highly correlated among themselves. In this situation, it is better to let the machine learning algorithm to figure out interactions. It is interesting to point out that this happens because commodities prices also affects to % generation"
   ]
  },
  {
   "cell_type": "code",
   "execution_count": null,
   "metadata": {},
   "outputs": [],
   "source": [
    "features_eng"
   ]
  },
  {
   "cell_type": "markdown",
   "metadata": {},
   "source": [
    "## 4.6 Feature standardization"
   ]
  },
  {
   "cell_type": "code",
   "execution_count": null,
   "metadata": {},
   "outputs": [],
   "source": [
    "std_compute = [\"spot_price\", \"GP48_total\"]\n",
    "features_std =[x + \"_std\" for x in std_compute]\n",
    "\n",
    "data_raw = data[std_compute].copy()\n",
    "scaler = StandardScaler().fit(data_raw)\n",
    "new_cols = scaler.transform(data_raw)\n",
    "\n",
    "for i in range(0, new_cols.shape[1]):\n",
    "    data[features_std[i]] = new_cols[:,i]\n",
    "\n",
    "data[std_compute + features_std].head()"
   ]
  },
  {
   "cell_type": "markdown",
   "metadata": {},
   "source": [
    "Features are stantardize so that scale does not impact on Machine Learning algorithms performace. This can be an issue with Neural Nets, Ridge and Lasso Regression, as well as SVM or KNN algorithms. Let's check that this transformation does not change feature distribution"
   ]
  },
  {
   "cell_type": "code",
   "execution_count": null,
   "metadata": {},
   "outputs": [],
   "source": [
    "fig, axs = plt.subplots(2,2)\n",
    "plt.suptitle(\"Standardization effects\")\n",
    "for idx, col in enumerate(std_compute):\n",
    "    sns.distplot(data[col], kde=True, ax=axs[0,idx])\n",
    "    \n",
    "for idx, col in enumerate(features_std):\n",
    "    sns.distplot(data[col],  kde=True, ax=axs[1,idx])"
   ]
  },
  {
   "cell_type": "markdown",
   "metadata": {},
   "source": [
    "## 4.7. Rolling features"
   ]
  },
  {
   "cell_type": "code",
   "execution_count": null,
   "metadata": {},
   "outputs": [],
   "source": [
    "#Forecasting horizon\n",
    "forecating_hor = 30\n",
    "features_roll = []\n",
    "targets = []\n",
    "\n",
    "#Compute targets:\n",
    "for t in range(1,forecating_hor+1):\n",
    "    data[\"target_spot_price_t{}\".format(t)] = data[\"spot_price\"].shift(-t)\n",
    "    targets.append(\"target_spot_price_t{}\".format(t))\n",
    "\n",
    "for feat in features_std:\n",
    "    for t in [1,3,7,14]:\n",
    "        data[feat + \"_lag{}\".format(t)] = data[feat].shift(t)\n",
    "        features_roll.append(feat + \"_lag{}\".format(t))\n",
    "\n",
    "#only spot price\n",
    "for t in [7, 30]:\n",
    "    data[[\"spot_price_std_mave{}\".format(t), \n",
    "          \"spot_price_std_mstd{}\".format(t),\n",
    "          \"spot_price_std_mmax{}\".format(t),\n",
    "          \"spot_price_std_mmin{}\".format(t)]]\\\n",
    "         = data[\"spot_price_std\"].rolling(t).agg([np.mean, np.std, np.max, np.min])\n",
    "    \n",
    "    features_roll = features_roll + [\"spot_price_std_mave{}\".format(t), \n",
    "          \"spot_price_std_mstd{}\".format(t),\n",
    "          \"spot_price_std_mmax{}\".format(t),\n",
    "          \"spot_price_std_mmin{}\".format(t)]\n",
    "    \n",
    "    for lag in [365]:\n",
    "        data[\"spot_price_std_mave{}_lag{}\".format(t, lag)] =\\\n",
    "            data[\"spot_price_std_mave{}\".format(t)].shift(lag)\n",
    "        \n",
    "        features_roll.append(\"spot_price_std_mave{}_lag{}\".format(t, lag))"
   ]
  },
  {
   "cell_type": "code",
   "execution_count": null,
   "metadata": {},
   "outputs": [],
   "source": [
    "features_full = features_time + features_gen_pct + features_eng + features_std + features_roll\n",
    "features = [\"feat_\" + x for x in features_full]\n",
    "columns =  [\"year\", \"qtr\", \"mon\",\"weekday\", \"flg_isWeekend\"] + targets + features\n",
    "\n",
    "feat_rename_dict = dict(zip(features_full,features))\n",
    "\n",
    "data_fte = data.rename(columns=feat_rename_dict).dropna()[columns]"
   ]
  },
  {
   "cell_type": "code",
   "execution_count": null,
   "metadata": {},
   "outputs": [],
   "source": [
    "corr_df = data_fte[targets[0:1] + features].corr().T[targets[0:1]].loc[features]"
   ]
  },
  {
   "cell_type": "code",
   "execution_count": null,
   "metadata": {},
   "outputs": [],
   "source": [
    "k_features = 10\n",
    "\n",
    "fig, axs = plt.subplots(1,3)\n",
    "\n",
    "corr_df_srt = corr_df.sort_values(by=[\"target_spot_price_t1\"], ascending=False)\n",
    "top_pos_corr = corr_df_srt[corr_df_srt[\"target_spot_price_t1\"]>0].head(k_features)\n",
    "top_neg_corr = corr_df_srt[corr_df_srt[\"target_spot_price_t1\"]<0].tail(k_features)\n",
    "                                                       \n",
    "top_pos_corr.sort_values(by=\"target_spot_price_t1\").plot.barh(ax=axs[0])\n",
    "top_neg_corr.plot.barh(color=\"lightcoral\", ax=axs[2])\n",
    "\n",
    "axs[0].set_xlim(0, 1) \n",
    "axs[2].set_xlim(0, -1.)\n",
    "\n",
    "for ax in axs:\n",
    "    ax.set_xlabel(r\"Pearson correlation $\\rho$\")\n",
    "fig.delaxes(axs[1])\n",
    "\n",
    "plt.suptitle(\"Top {} features most linearly correalted to target variable\".format(k_features))\n",
    "plt.show()"
   ]
  },
  {
   "cell_type": "code",
   "execution_count": null,
   "metadata": {},
   "outputs": [],
   "source": []
  },
  {
   "cell_type": "code",
   "execution_count": null,
   "metadata": {},
   "outputs": [],
   "source": []
  },
  {
   "cell_type": "code",
   "execution_count": null,
   "metadata": {},
   "outputs": [],
   "source": [
    "data_fte.info()"
   ]
  },
  {
   "cell_type": "code",
   "execution_count": null,
   "metadata": {},
   "outputs": [],
   "source": [
    "data_fte.to_csv(PATH + outfile, index_label='date')"
   ]
  },
  {
   "cell_type": "code",
   "execution_count": null,
   "metadata": {},
   "outputs": [],
   "source": []
  }
 ],
 "metadata": {
  "kernelspec": {
   "display_name": "Python 3",
   "language": "python",
   "name": "python3"
  },
  "language_info": {
   "codemirror_mode": {
    "name": "ipython",
    "version": 3
   },
   "file_extension": ".py",
   "mimetype": "text/x-python",
   "name": "python",
   "nbconvert_exporter": "python",
   "pygments_lexer": "ipython3",
   "version": "3.7.1"
  },
  "toc-autonumbering": false
 },
 "nbformat": 4,
 "nbformat_minor": 2
}
